{
 "cells": [
  {
   "cell_type": "code",
   "execution_count": 1,
   "metadata": {},
   "outputs": [
    {
     "name": "stdout",
     "output_type": "stream",
     "text": [
      "                 LocalTime  Temp  Hum  WindSpeed  WindDir     Bar  RainDay  \\\n",
      "77137  2018/05/26 13:40:00   NaN  NaN        NaN      NaN  1007.7      0.0   \n",
      "\n",
      "       Solar  UV  \n",
      "77137    NaN NaN  \n"
     ]
    }
   ],
   "source": [
    "import pandas as pd\n",
    "df = pd.read_csv(\"./data/test_LSTM_15_北港朝天宮綜合氣象站(10min).csv\")\n",
    "print(df.loc[df['LocalTime']=='2018/05/26 13:40:00'])"
   ]
  },
  {
   "cell_type": "code",
   "execution_count": null,
   "metadata": {},
   "outputs": [],
   "source": []
  }
 ],
 "metadata": {
  "kernelspec": {
   "display_name": "Python 3.10.4 ('test-env')",
   "language": "python",
   "name": "python3"
  },
  "language_info": {
   "codemirror_mode": {
    "name": "ipython",
    "version": 3
   },
   "file_extension": ".py",
   "mimetype": "text/x-python",
   "name": "python",
   "nbconvert_exporter": "python",
   "pygments_lexer": "ipython3",
   "version": "3.10.4"
  },
  "orig_nbformat": 4,
  "vscode": {
   "interpreter": {
    "hash": "00fbfa5e466e1931d6cac8499742cb30d7e114eb0ff8c20f4aea50d447f7884f"
   }
  }
 },
 "nbformat": 4,
 "nbformat_minor": 2
}
