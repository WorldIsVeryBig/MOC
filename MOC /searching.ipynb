{
 "cells": [
  {
   "cell_type": "code",
   "execution_count": 2,
   "metadata": {},
   "outputs": [
    {
     "data": {
      "text/plain": [
       "0        1.60\n",
       "1        0.45\n",
       "2        0.46\n",
       "3        0.37\n",
       "4        0.96\n",
       "         ... \n",
       "10940    1.04\n",
       "10941    0.73\n",
       "10942    0.71\n",
       "10943    0.75\n",
       "10944    0.66\n",
       "Name: WindSpeed, Length: 10945, dtype: float64"
      ]
     },
     "execution_count": 2,
     "metadata": {},
     "output_type": "execute_result"
    }
   ],
   "source": [
    "import pandas as pd\n",
    "# df = pd.read_excel(\"/Users/huangsiyou/Documents/文化部可視化/MOC/MOC /data/2022年2月鹿港龍山寺溫濕度計報表.xlsx\")\n",
    "df = pd.read_csv('./Total_Data/2022 data 北港朝天宮.csv')\n",
    "df['WindSpeed']"
   ]
  },
  {
   "cell_type": "code",
   "execution_count": null,
   "metadata": {},
   "outputs": [],
   "source": []
  }
 ],
 "metadata": {
  "kernelspec": {
   "display_name": "Python 3.10.4 ('test-env')",
   "language": "python",
   "name": "python3"
  },
  "language_info": {
   "codemirror_mode": {
    "name": "ipython",
    "version": 3
   },
   "file_extension": ".py",
   "mimetype": "text/x-python",
   "name": "python",
   "nbconvert_exporter": "python",
   "pygments_lexer": "ipython3",
   "version": "3.10.4"
  },
  "orig_nbformat": 4,
  "vscode": {
   "interpreter": {
    "hash": "00fbfa5e466e1931d6cac8499742cb30d7e114eb0ff8c20f4aea50d447f7884f"
   }
  }
 },
 "nbformat": 4,
 "nbformat_minor": 2
}
